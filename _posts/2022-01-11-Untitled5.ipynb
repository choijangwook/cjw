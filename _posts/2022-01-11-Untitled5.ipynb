{
  "nbformat": 4,
  "nbformat_minor": 0,
  "metadata": {
    "colab": {
      "name": "Untitled5.ipynb",
      "provenance": [],
      "collapsed_sections": [],
      "authorship_tag": "ABX9TyNZSh4EnZqc3UFev5wGSCaJ",
      "include_colab_link": true
    },
    "kernelspec": {
      "name": "python3",
      "display_name": "Python 3"
    },
    "language_info": {
      "name": "python"
    },
    "accelerator": "GPU"
  },
  "cells": [
    {
      "cell_type": "markdown",
      "metadata": {
        "id": "view-in-github",
        "colab_type": "text"
      },
      "source": [
        "<a href=\"https://colab.research.google.com/github/lkj10/predict_lotto_LSTM/blob/main/Untitled5.ipynb\" target=\"_parent\"><img src=\"https://colab.research.google.com/assets/colab-badge.svg\" alt=\"Open In Colab\"/></a>"
      ]
    },
    {
      "cell_type": "code",
      "metadata": {
        "id": "LnJD3rhj2XU3"
      },
      "source": [
        
        import csv
import tensorflow as tf
from tensorflow import keras
from tensorflow.keras import layers
from tensorflow.keras import models
import numpy as np
import pandas as pd
import requests
from bs4 import BeautifulSoup


from __future__ import absolute_import, division, print_function, unicode_literals
!pip install tensorflow-gpu==2.0.0-rc1


# 마지막 회차를 얻기 위한 주소
main_url = "https://www.dhlottery.co.kr/gameResult.do?method=byWin"

# 임의의 회차를 얻기 위한 주소
basic_url = "https://www.dhlottery.co.kr/gameResult.do?method=byWin&drwNo="


def get_last_num():
    num_list = []
    request = requests.get(main_url)
    soup = BeautifulSoup(request.text, 'html.parser')
    num = soup.find("h4").text
    for i in num:
        try:
            if(int(i)):
                num_list.append(i)
        except:
            pass
    lotto_num = ''.join(num_list)
    return int(lotto_num)

# 특정회차 로또 번호 알려주는 함수


def get_ball_num(num):
    url = f"{basic_url}{num}"
    balls_list = []
    request = requests.get(url)
    soup = BeautifulSoup(request.text, 'html.parser')
    balls = soup.find_all("span", {"class": "ball_645"})
    if balls:
        for ball in balls:
            balls_list.append(int(ball.string))
    return balls_list



def save_to_file(dic):
    file = open("lotto.csv", mode="w", encoding='utf-8', newline='')
    writer = csv.writer(file)
    writer.writerow(["times", "num1", "num2", "num3", "num4", "num5", "num6", "bonus"])
    for key, val in dic.items():
        temp = [key] + val
        writer.writerow(list(temp))
    return


#로또 리스트 원핫코딩으로 바꾸는 함수
def numbers2ohbin(numbers):
    ohbin = np.zeros(45)
    for i in range(7):
        ohbin[int(numbers[i])-1] = 1
    return ohbin

#원핫코딩한거 다시 로또 리스트로 바꾸는 함수
def ohbin2numbers(ohbin):
    numbers = []
    for i in range(len(ohbin)):
        if ohbin[i] == 1.0:
            numbers.append(i+1)
    return numbers


from google.colab import files 
uploaded = files.upload()


# 회차랑 로또 번호 합쳐서 딕셔너리로 만드는 함수
def make_dic(num):
    dic = {}
    for i in range(1, num+1):
        dic[f"{i}"] = get_ball_num(i)
    return dic


# save_to_file(make_dic(get_last_num()))

# print(numbers2ohbin(get_ball_num(get_last_num())))


import io 
df = pd.read_csv(io.BytesIO(uploaded['lotto.csv']))


try:
  df.drop('times', axis=1, inplace=True)
except:
  pass

List = []
for i in range(get_last_num()):
  List.append(numbers2ohbin(np.array(df.loc[i].tolist())))


x_samples = List[0:get_last_num()-1]
y_samples = List[1:get_last_num()]

# 훈련셋: (1회 입력, 2회 출력)부터 (700회 입력, 701회)까지 700개 샘플
# 검증셋: (701회, 702회)부터 (800회, 801회)까지 100개 샘플
# 시험셋: (801회, 802회)부터 (893회, 958회)까지 93개 샘플

train_idx = (0, 800)
val_idx = (800, 900)
test_idx = (900, get_last_num())

print("train: {0}, val: {1}, test: {2}".format(train_idx, val_idx, test_idx))


# 모델을 정의
model = keras.Sequential([
    keras.layers.LSTM(128, batch_input_shape=(1, 1, 45),
                      return_sequences=False, stateful=True),
    keras.layers.Dense(45, activation='sigmoid')
])

# 모델을 컴파일
model.compile(loss='binary_crossentropy',
              optimizer='adam', metrics=['accuracy'])


# 매 에포크마다 훈련과 검증의 손실 및 정확도를 기록하기 위한 변수
train_loss = []
train_acc = []
val_loss = []
val_acc = []


# 최대 100번 에포크까지 수행
for epoch in range(100):

    model.reset_states()  #매 에포크마다 1회부터 다시 훈련하므로 상태 초기화 필요

    batch_train_loss = []
    batch_train_acc = []

    for i in range(train_idx[0], train_idx[1]):

        xs = x_samples[i].reshape(1, 1, 45)
        ys = y_samples[i].reshape(1, 45)

        loss, acc = model.train_on_batch(xs, ys)  # 배치만큼 모델에 학습시킴

        batch_train_loss.append(loss)
        batch_train_acc.append(acc)

    train_loss.append(np.mean(batch_train_loss))
    train_acc.append(np.mean(batch_train_acc))

    batch_val_loss = []
    batch_val_acc = []

    for i in range(val_idx[0], val_idx[1]):
        xs = x_samples[i].reshape(1, 1, 45)
        ys = y_samples[i].reshape(1, 45)

        loss, acc = model.test_on_batch(xs, ys)  # 배치만큼 모델에 입력하여 나온 답을 정답과 비교함

        batch_val_loss.append(loss)
        batch_val_acc.append(acc)

    val_loss.append(np.mean(batch_val_loss))
    val_acc.append(np.mean(batch_val_acc))

    print('epoch {0:4d} train acc {1:0.3f} loss {2:0.3f} val acc {3:0.3f} loss {4:0.3f}'.format(
        epoch, np.mean(batch_train_acc), np.mean(batch_train_loss), np.mean(batch_val_acc), np.mean(batch_val_loss)))

    model.save('model_{0:04d}.h5'.format(epoch+1))


%matplotlib inline
import matplotlib.pyplot as plt

fig, loss_ax = plt.subplots()

acc_ax = loss_ax.twinx()

loss_ax.plot(train_loss, 'y', label='train loss')
loss_ax.plot(val_loss, 'r', label='val loss')

acc_ax.plot(train_acc, 'b', label='train acc')
acc_ax.plot(val_acc, 'g', label='val acc')

loss_ax.set_xlabel('epoch')
loss_ax.set_ylabel('loss')
acc_ax.set_ylabel('accuray')

loss_ax.legend(loc='upper left')
acc_ax.legend(loc='lower left')

plt.show()


def gen_numbers_from_probability(nums_prob):

    ball_box = []

    for n in range(45):
        ball_count = int(nums_prob[n] * 100 + 1)
        ball = np.full((ball_count), n+1) #1부터 시작
        ball_box += list(ball)

    selected_balls = []

    while True:
        
        if len(selected_balls) == 7:
            break
        
        ball_index = np.random.randint(len(ball_box), size=1)[0]
        ball = ball_box[ball_index]

        if ball not in selected_balls:
            selected_balls.append(ball)

    return selected_balls


print('receive numbers')
xs = x_samples[-1].reshape(1, 1, 45)
ys_pred = model.predict_on_batch(xs)
list_numbers = []

for n in range(10):
    numbers = gen_numbers_from_probability(ys_pred[0])
    print('{0} : {1}'.format(n+1, numbers))
    list_numbers.append(numbers)
        
        
        
        
        
       
